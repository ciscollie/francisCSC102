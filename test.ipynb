{
 "cells": [
  {
   "cell_type": "code",
   "execution_count": 21,
   "metadata": {},
   "outputs": [
    {
     "name": "stdout",
     "output_type": "stream",
     "text": [
      "False\n"
     ]
    }
   ],
   "source": [
    "def is_Power_of_two(n):\n",
    "    return n > 0 and (n & (n-1)) == 0\n",
    "print(is_Power_of_two(45))"
   ]
  },
  {
   "cell_type": "code",
   "execution_count": 11,
   "metadata": {},
   "outputs": [
    {
     "name": "stdout",
     "output_type": "stream",
     "text": [
      "What values do you want to check?dfghjk\n",
      "Not valid code\n"
     ]
    }
   ],
   "source": [
    "import re\n",
    "#data = (\"124A\",\"2@i2B\", \"1111\")\n",
    "data = input(\"What values do you want to check?\")\n",
    "\n",
    "#re is regular expression\n",
    "if re.search(\"[A-Z]\", data):\n",
    "    print(\"Valid code\")\n",
    "else:\n",
    "    print(\"Not valid code\")"
   ]
  },
  {
   "cell_type": "code",
   "execution_count": null,
   "metadata": {},
   "outputs": [],
   "source": [
    "S = range(2,16,2)\n",
    "T = range(1,9,3)\n",
    "for x in S:\n",
    "    for k in T:\n",
    "        print(k, end=' ')\n",
    "        print(x, end=' ')\n",
    "    print()"
   ]
  },
  {
   "cell_type": "code",
   "execution_count": null,
   "metadata": {},
   "outputs": [],
   "source": [
    "def a(b):\n",
    "    b = b + [5]\n",
    "c = [1,2,3,4]\n",
    "print(a(c))\n",
    "print(len(c))"
   ]
  },
  {
   "cell_type": "code",
   "execution_count": null,
   "metadata": {},
   "outputs": [],
   "source": [
    "T = range(2,5)\n",
    "C = range(1,4)\n",
    "for j in T:\n",
    "    print(j, end = \" \")\n",
    "    for w in C:\n",
    "        print(w, end = \" \")\n",
    "    print()\n",
    "\n"
   ]
  },
  {
   "cell_type": "code",
   "execution_count": null,
   "metadata": {},
   "outputs": [],
   "source": [
    "T = range(2,5)\n",
    "C = range(1,4)\n",
    "for j in T:\n",
    "    for w in C:\n",
    "        print(w, end = \" \")\n",
    "        print(j, end = \" \")\n",
    "    print()\n"
   ]
  },
  {
   "cell_type": "code",
   "execution_count": null,
   "metadata": {},
   "outputs": [],
   "source": [
    "T = range(2,5)\n",
    "C = range(1,4)\n",
    "for j in T:\n",
    "    for w in C:\n",
    "        print(w * j, end = \" \")\n",
    "        print(j + w, end = \" \")\n",
    "    print()"
   ]
  },
  {
   "cell_type": "code",
   "execution_count": null,
   "metadata": {},
   "outputs": [],
   "source": [
    "a = [1,2,3,4]\n",
    "b = 3\n",
    "print(a*b)"
   ]
  },
  {
   "cell_type": "code",
   "execution_count": null,
   "metadata": {},
   "outputs": [],
   "source": [
    "B = range(2,82345678,3)\n",
    "T = range(4,63456789)\n",
    "C = range(1,523456789,3)\n",
    "for j in B:\n",
    "    for w in T:\n",
    "        for x in C:\n",
    "            print(x, end = \" \")\n",
    "            print(w, end = \" \")\n",
    "            print(j, end = \" \")\n",
    "        print()\n"
   ]
  },
  {
   "cell_type": "code",
   "execution_count": null,
   "metadata": {},
   "outputs": [],
   "source": [
    "def check_genius(n):\n",
    "    n = round(n)\n",
    "    if n in range(3,9):\n",
    "        print(str(n), \"is in the range\")\n",
    "    else:\n",
    "        print(str(n), \"is not in the range\")\n",
    "        \n",
    "check_genius(5.9)"
   ]
  },
  {
   "cell_type": "code",
   "execution_count": 22,
   "metadata": {},
   "outputs": [
    {
     "name": "stdout",
     "output_type": "stream",
     "text": [
      "Furnom Jeff Ada Furnom Jeff Ada \n",
      "Furnom Jeff Ada Furnom Jeff Ada \n",
      "Furnom Jeff Ada Furnom Jeff Ada \n",
      "Furnom Jeff Ada Furnom Jeff Ada \n"
     ]
    }
   ],
   "source": [
    "B = range(2,8,3)\n",
    "T = range(4,6)\n",
    "C = range(1,5,3)\n",
    "for j in B:\n",
    "    d = \"Ada\"\n",
    "    for w in T:\n",
    "        h = \"Jeff\"\n",
    "        for x in C:\n",
    "            m = \"Furnom\"\n",
    "            print(m, end = \" \")\n",
    "            print(h, end = \" \")\n",
    "            print(d, end = \" \")\n",
    "        print()\n"
   ]
  },
  {
   "cell_type": "code",
   "execution_count": null,
   "metadata": {},
   "outputs": [],
   "source": [
    "prog = ['Python', 'Java', 'C++', \"C#\", 'PHP', 'R', 'CSS']"
   ]
  },
  {
   "cell_type": "code",
   "execution_count": null,
   "metadata": {},
   "outputs": [],
   "source": [
    "prog[-6:-4]"
   ]
  },
  {
   "cell_type": "code",
   "execution_count": null,
   "metadata": {},
   "outputs": [],
   "source": [
    "prog.pop(-4)"
   ]
  },
  {
   "cell_type": "code",
   "execution_count": null,
   "metadata": {},
   "outputs": [],
   "source": [
    "prog[2:5:3]"
   ]
  },
  {
   "cell_type": "code",
   "execution_count": null,
   "metadata": {},
   "outputs": [],
   "source": [
    "grades = (70,40,77,45,88,60,75,89)\n",
    "grades[5:len(grades)]\n"
   ]
  },
  {
   "cell_type": "code",
   "execution_count": null,
   "metadata": {},
   "outputs": [],
   "source": [
    "len(grades)"
   ]
  },
  {
   "cell_type": "code",
   "execution_count": 17,
   "metadata": {},
   "outputs": [
    {
     "data": {
      "text/plain": [
       "0"
      ]
     },
     "execution_count": 17,
     "metadata": {},
     "output_type": "execute_result"
    }
   ],
   "source": [
    "16&15"
   ]
  },
  {
   "cell_type": "code",
   "execution_count": null,
   "metadata": {},
   "outputs": [],
   "source": [
    " "
   ]
  }
 ],
 "metadata": {
  "kernelspec": {
   "display_name": "Python 3",
   "language": "python",
   "name": "python3"
  },
  "language_info": {
   "codemirror_mode": {
    "name": "ipython",
    "version": 3
   },
   "file_extension": ".py",
   "mimetype": "text/x-python",
   "name": "python",
   "nbconvert_exporter": "python",
   "pygments_lexer": "ipython3",
   "version": "3.8.5"
  }
 },
 "nbformat": 4,
 "nbformat_minor": 4
}

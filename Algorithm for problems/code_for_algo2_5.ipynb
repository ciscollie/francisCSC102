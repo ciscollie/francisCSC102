{
 "cells": [
  {
   "cell_type": "code",
   "execution_count": 8,
   "metadata": {},
   "outputs": [
    {
     "name": "stdout",
     "output_type": "stream",
     "text": [
      "Player 1: even or odd: odd\n",
      "Player 2: even or odd: even\n",
      "Player 1 choose a number: 2\n",
      "Player 2 choose a number: 4\n",
      "Even\n"
     ]
    }
   ],
   "source": [
    "a = input(\"Player 1: even or odd: \")\n",
    "b = input(\"Player 2: even or odd: \")\n",
    "def money():\n",
    "    a = input(\"Player 1: Even or odd: \")\n",
    "    b = input(\"Player 2: Even or odd: \")\n",
    "if a==b:\n",
    "    print(\"Try again\",money())\n",
    "c = int(input(\"Player 1 choose a number: \"))\n",
    "d = int(input(\"Player 2 choose a number: \"))\n",
    "e = c+d\n",
    "if e%2 ==0:\n",
    "    print(\"Even\")\n",
    "else:\n",
    "    print(\"Odd\")"
   ]
  },
  {
   "cell_type": "code",
   "execution_count": 4,
   "metadata": {},
   "outputs": [],
   "source": [
    "import pandas"
   ]
  },
  {
   "cell_type": "code",
   "execution_count": 2,
   "metadata": {},
   "outputs": [],
   "source": [
    "a = [1637281.3, 1729302.5, 1784910.4, 162813.7, 1562732.5, 1265748.7, 1385940.5, 1256473.6, 1748392.6, 1759302.4]\n",
    "b = [13456781.3, 1654302.5, 1546780.4,176543.7,1234532.5, 1345678.7, 15432140.5, 12554323.6, 17554242.6, 17543212.4]\n",
    "c = [2563721.3, 3628142.5, 1784910.4, 1643256.7, 15642142.5, 1456788.7, 14325890.5, 4324789.6, 65433678.6, 664347654.4]\n",
    "d = [\"New York\", \"Califonia\", \"Florida\", \"New York\", \"Florida\",\"New York\", \"Califonia\", \"Florida\", \"New York\", \"Califonia\"]\n",
    "e = [1637281.3, 1729302.5, 1784910.4, 162813.7, 1562732.5, 1265748.7, 1385940.5, 1256473.6, 1748392.6, 1759302.4]\n",
    "bat = {'R&D Spend': a, \"Administration\": b, \"Marketing Spend\": c, \"State\": d, \"Profit\": e}\n"
   ]
  },
  {
   "cell_type": "code",
   "execution_count": 3,
   "metadata": {},
   "outputs": [
    {
     "data": {
      "text/plain": [
       "{'R&D Spend': [1637281.3,\n",
       "  1729302.5,\n",
       "  1784910.4,\n",
       "  162813.7,\n",
       "  1562732.5,\n",
       "  1265748.7,\n",
       "  1385940.5,\n",
       "  1256473.6,\n",
       "  1748392.6,\n",
       "  1759302.4],\n",
       " 'Administration': [13456781.3,\n",
       "  1654302.5,\n",
       "  1546780.4,\n",
       "  176543.7,\n",
       "  1234532.5,\n",
       "  1345678.7,\n",
       "  15432140.5,\n",
       "  12554323.6,\n",
       "  17554242.6,\n",
       "  17543212.4],\n",
       " 'Marketing Spend': [2563721.3,\n",
       "  3628142.5,\n",
       "  1784910.4,\n",
       "  1643256.7,\n",
       "  15642142.5,\n",
       "  1456788.7,\n",
       "  14325890.5,\n",
       "  4324789.6,\n",
       "  65433678.6,\n",
       "  664347654.4],\n",
       " 'State': ['New York',\n",
       "  'Califonia',\n",
       "  'Florida',\n",
       "  'New York',\n",
       "  'Florida',\n",
       "  'New York',\n",
       "  'Califonia',\n",
       "  'Florida',\n",
       "  'New York',\n",
       "  'Califonia'],\n",
       " 'Profit': [1637281.3,\n",
       "  1729302.5,\n",
       "  1784910.4,\n",
       "  162813.7,\n",
       "  1562732.5,\n",
       "  1265748.7,\n",
       "  1385940.5,\n",
       "  1256473.6,\n",
       "  1748392.6,\n",
       "  1759302.4]}"
      ]
     },
     "execution_count": 3,
     "metadata": {},
     "output_type": "execute_result"
    }
   ],
   "source": [
    "bat"
   ]
  },
  {
   "cell_type": "code",
   "execution_count": 8,
   "metadata": {},
   "outputs": [],
   "source": [
    "enron = pandas.DataFrame(bat)"
   ]
  },
  {
   "cell_type": "code",
   "execution_count": 9,
   "metadata": {
    "scrolled": true
   },
   "outputs": [
    {
     "data": {
      "text/html": [
       "<div>\n",
       "<style scoped>\n",
       "    .dataframe tbody tr th:only-of-type {\n",
       "        vertical-align: middle;\n",
       "    }\n",
       "\n",
       "    .dataframe tbody tr th {\n",
       "        vertical-align: top;\n",
       "    }\n",
       "\n",
       "    .dataframe thead th {\n",
       "        text-align: right;\n",
       "    }\n",
       "</style>\n",
       "<table border=\"1\" class=\"dataframe\">\n",
       "  <thead>\n",
       "    <tr style=\"text-align: right;\">\n",
       "      <th></th>\n",
       "      <th>R&amp;D Spend</th>\n",
       "      <th>Administration</th>\n",
       "      <th>Marketing Spend</th>\n",
       "      <th>State</th>\n",
       "      <th>Profit</th>\n",
       "    </tr>\n",
       "  </thead>\n",
       "  <tbody>\n",
       "    <tr>\n",
       "      <th>0</th>\n",
       "      <td>1637281.3</td>\n",
       "      <td>13456781.3</td>\n",
       "      <td>2563721.3</td>\n",
       "      <td>New York</td>\n",
       "      <td>1637281.3</td>\n",
       "    </tr>\n",
       "    <tr>\n",
       "      <th>1</th>\n",
       "      <td>1729302.5</td>\n",
       "      <td>1654302.5</td>\n",
       "      <td>3628142.5</td>\n",
       "      <td>Califonia</td>\n",
       "      <td>1729302.5</td>\n",
       "    </tr>\n",
       "    <tr>\n",
       "      <th>2</th>\n",
       "      <td>1784910.4</td>\n",
       "      <td>1546780.4</td>\n",
       "      <td>1784910.4</td>\n",
       "      <td>Florida</td>\n",
       "      <td>1784910.4</td>\n",
       "    </tr>\n",
       "    <tr>\n",
       "      <th>3</th>\n",
       "      <td>162813.7</td>\n",
       "      <td>176543.7</td>\n",
       "      <td>1643256.7</td>\n",
       "      <td>New York</td>\n",
       "      <td>162813.7</td>\n",
       "    </tr>\n",
       "    <tr>\n",
       "      <th>4</th>\n",
       "      <td>1562732.5</td>\n",
       "      <td>1234532.5</td>\n",
       "      <td>15642142.5</td>\n",
       "      <td>Florida</td>\n",
       "      <td>1562732.5</td>\n",
       "    </tr>\n",
       "    <tr>\n",
       "      <th>5</th>\n",
       "      <td>1265748.7</td>\n",
       "      <td>1345678.7</td>\n",
       "      <td>1456788.7</td>\n",
       "      <td>New York</td>\n",
       "      <td>1265748.7</td>\n",
       "    </tr>\n",
       "    <tr>\n",
       "      <th>6</th>\n",
       "      <td>1385940.5</td>\n",
       "      <td>15432140.5</td>\n",
       "      <td>14325890.5</td>\n",
       "      <td>Califonia</td>\n",
       "      <td>1385940.5</td>\n",
       "    </tr>\n",
       "    <tr>\n",
       "      <th>7</th>\n",
       "      <td>1256473.6</td>\n",
       "      <td>12554323.6</td>\n",
       "      <td>4324789.6</td>\n",
       "      <td>Florida</td>\n",
       "      <td>1256473.6</td>\n",
       "    </tr>\n",
       "    <tr>\n",
       "      <th>8</th>\n",
       "      <td>1748392.6</td>\n",
       "      <td>17554242.6</td>\n",
       "      <td>65433678.6</td>\n",
       "      <td>New York</td>\n",
       "      <td>1748392.6</td>\n",
       "    </tr>\n",
       "    <tr>\n",
       "      <th>9</th>\n",
       "      <td>1759302.4</td>\n",
       "      <td>17543212.4</td>\n",
       "      <td>664347654.4</td>\n",
       "      <td>Califonia</td>\n",
       "      <td>1759302.4</td>\n",
       "    </tr>\n",
       "  </tbody>\n",
       "</table>\n",
       "</div>"
      ],
      "text/plain": [
       "   R&D Spend  Administration  Marketing Spend      State     Profit\n",
       "0  1637281.3      13456781.3        2563721.3   New York  1637281.3\n",
       "1  1729302.5       1654302.5        3628142.5  Califonia  1729302.5\n",
       "2  1784910.4       1546780.4        1784910.4    Florida  1784910.4\n",
       "3   162813.7        176543.7        1643256.7   New York   162813.7\n",
       "4  1562732.5       1234532.5       15642142.5    Florida  1562732.5\n",
       "5  1265748.7       1345678.7        1456788.7   New York  1265748.7\n",
       "6  1385940.5      15432140.5       14325890.5  Califonia  1385940.5\n",
       "7  1256473.6      12554323.6        4324789.6    Florida  1256473.6\n",
       "8  1748392.6      17554242.6       65433678.6   New York  1748392.6\n",
       "9  1759302.4      17543212.4      664347654.4  Califonia  1759302.4"
      ]
     },
     "execution_count": 9,
     "metadata": {},
     "output_type": "execute_result"
    }
   ],
   "source": [
    "enron"
   ]
  },
  {
   "cell_type": "code",
   "execution_count": 11,
   "metadata": {},
   "outputs": [
    {
     "data": {
      "text/html": [
       "<div>\n",
       "<style scoped>\n",
       "    .dataframe tbody tr th:only-of-type {\n",
       "        vertical-align: middle;\n",
       "    }\n",
       "\n",
       "    .dataframe tbody tr th {\n",
       "        vertical-align: top;\n",
       "    }\n",
       "\n",
       "    .dataframe thead th {\n",
       "        text-align: right;\n",
       "    }\n",
       "</style>\n",
       "<table border=\"1\" class=\"dataframe\">\n",
       "  <thead>\n",
       "    <tr style=\"text-align: right;\">\n",
       "      <th></th>\n",
       "      <th>R&amp;D Spend</th>\n",
       "      <th>Administration</th>\n",
       "      <th>Marketing Spend</th>\n",
       "      <th>State</th>\n",
       "      <th>Profit</th>\n",
       "    </tr>\n",
       "  </thead>\n",
       "  <tbody>\n",
       "    <tr>\n",
       "      <th>0</th>\n",
       "      <td>1637281.3</td>\n",
       "      <td>13456781.3</td>\n",
       "      <td>2563721.3</td>\n",
       "      <td>New York</td>\n",
       "      <td>1637281.3</td>\n",
       "    </tr>\n",
       "    <tr>\n",
       "      <th>1</th>\n",
       "      <td>1729302.5</td>\n",
       "      <td>1654302.5</td>\n",
       "      <td>3628142.5</td>\n",
       "      <td>Califonia</td>\n",
       "      <td>1729302.5</td>\n",
       "    </tr>\n",
       "    <tr>\n",
       "      <th>2</th>\n",
       "      <td>1784910.4</td>\n",
       "      <td>1546780.4</td>\n",
       "      <td>1784910.4</td>\n",
       "      <td>Florida</td>\n",
       "      <td>1784910.4</td>\n",
       "    </tr>\n",
       "    <tr>\n",
       "      <th>3</th>\n",
       "      <td>162813.7</td>\n",
       "      <td>176543.7</td>\n",
       "      <td>1643256.7</td>\n",
       "      <td>New York</td>\n",
       "      <td>162813.7</td>\n",
       "    </tr>\n",
       "    <tr>\n",
       "      <th>4</th>\n",
       "      <td>1562732.5</td>\n",
       "      <td>1234532.5</td>\n",
       "      <td>15642142.5</td>\n",
       "      <td>Florida</td>\n",
       "      <td>1562732.5</td>\n",
       "    </tr>\n",
       "  </tbody>\n",
       "</table>\n",
       "</div>"
      ],
      "text/plain": [
       "   R&D Spend  Administration  Marketing Spend      State     Profit\n",
       "0  1637281.3      13456781.3        2563721.3   New York  1637281.3\n",
       "1  1729302.5       1654302.5        3628142.5  Califonia  1729302.5\n",
       "2  1784910.4       1546780.4        1784910.4    Florida  1784910.4\n",
       "3   162813.7        176543.7        1643256.7   New York   162813.7\n",
       "4  1562732.5       1234532.5       15642142.5    Florida  1562732.5"
      ]
     },
     "execution_count": 11,
     "metadata": {},
     "output_type": "execute_result"
    }
   ],
   "source": [
    "enron.head(5)"
   ]
  },
  {
   "cell_type": "code",
   "execution_count": 12,
   "metadata": {
    "scrolled": true
   },
   "outputs": [
    {
     "data": {
      "text/html": [
       "<div>\n",
       "<style scoped>\n",
       "    .dataframe tbody tr th:only-of-type {\n",
       "        vertical-align: middle;\n",
       "    }\n",
       "\n",
       "    .dataframe tbody tr th {\n",
       "        vertical-align: top;\n",
       "    }\n",
       "\n",
       "    .dataframe thead th {\n",
       "        text-align: right;\n",
       "    }\n",
       "</style>\n",
       "<table border=\"1\" class=\"dataframe\">\n",
       "  <thead>\n",
       "    <tr style=\"text-align: right;\">\n",
       "      <th></th>\n",
       "      <th>R&amp;D Spend</th>\n",
       "      <th>Administration</th>\n",
       "      <th>Marketing Spend</th>\n",
       "      <th>State</th>\n",
       "      <th>Profit</th>\n",
       "    </tr>\n",
       "  </thead>\n",
       "  <tbody>\n",
       "    <tr>\n",
       "      <th>5</th>\n",
       "      <td>1265748.7</td>\n",
       "      <td>1345678.7</td>\n",
       "      <td>1456788.7</td>\n",
       "      <td>New York</td>\n",
       "      <td>1265748.7</td>\n",
       "    </tr>\n",
       "    <tr>\n",
       "      <th>6</th>\n",
       "      <td>1385940.5</td>\n",
       "      <td>15432140.5</td>\n",
       "      <td>14325890.5</td>\n",
       "      <td>Califonia</td>\n",
       "      <td>1385940.5</td>\n",
       "    </tr>\n",
       "    <tr>\n",
       "      <th>7</th>\n",
       "      <td>1256473.6</td>\n",
       "      <td>12554323.6</td>\n",
       "      <td>4324789.6</td>\n",
       "      <td>Florida</td>\n",
       "      <td>1256473.6</td>\n",
       "    </tr>\n",
       "    <tr>\n",
       "      <th>8</th>\n",
       "      <td>1748392.6</td>\n",
       "      <td>17554242.6</td>\n",
       "      <td>65433678.6</td>\n",
       "      <td>New York</td>\n",
       "      <td>1748392.6</td>\n",
       "    </tr>\n",
       "    <tr>\n",
       "      <th>9</th>\n",
       "      <td>1759302.4</td>\n",
       "      <td>17543212.4</td>\n",
       "      <td>664347654.4</td>\n",
       "      <td>Califonia</td>\n",
       "      <td>1759302.4</td>\n",
       "    </tr>\n",
       "  </tbody>\n",
       "</table>\n",
       "</div>"
      ],
      "text/plain": [
       "   R&D Spend  Administration  Marketing Spend      State     Profit\n",
       "5  1265748.7       1345678.7        1456788.7   New York  1265748.7\n",
       "6  1385940.5      15432140.5       14325890.5  Califonia  1385940.5\n",
       "7  1256473.6      12554323.6        4324789.6    Florida  1256473.6\n",
       "8  1748392.6      17554242.6       65433678.6   New York  1748392.6\n",
       "9  1759302.4      17543212.4      664347654.4  Califonia  1759302.4"
      ]
     },
     "execution_count": 12,
     "metadata": {},
     "output_type": "execute_result"
    }
   ],
   "source": [
    "enron.tail(5)"
   ]
  },
  {
   "cell_type": "code",
   "execution_count": 17,
   "metadata": {},
   "outputs": [
    {
     "data": {
      "text/plain": [
       "Index(['R&D Spend', 'Administration', 'Marketing Spend', 'State', 'Profit'], dtype='object')"
      ]
     },
     "execution_count": 17,
     "metadata": {},
     "output_type": "execute_result"
    }
   ],
   "source": [
    "enron.columns"
   ]
  },
  {
   "cell_type": "code",
   "execution_count": 30,
   "metadata": {},
   "outputs": [],
   "source": [
    "enron.to_excel('enron.xlsx')"
   ]
  },
  {
   "cell_type": "code",
   "execution_count": 1,
   "metadata": {},
   "outputs": [
    {
     "ename": "NameError",
     "evalue": "name 'pandas' is not defined",
     "output_type": "error",
     "traceback": [
      "\u001b[1;31m---------------------------------------------------------------------------\u001b[0m",
      "\u001b[1;31mNameError\u001b[0m                                 Traceback (most recent call last)",
      "\u001b[1;32m<ipython-input-1-434ddebe4fe5>\u001b[0m in \u001b[0;36m<module>\u001b[1;34m\u001b[0m\n\u001b[1;32m----> 1\u001b[1;33m \u001b[0mpandas\u001b[0m\u001b[1;33m.\u001b[0m\u001b[0mread_excel\u001b[0m\u001b[1;33m(\u001b[0m\u001b[1;34m'enron.xlsx'\u001b[0m\u001b[1;33m)\u001b[0m\u001b[1;33m\u001b[0m\u001b[1;33m\u001b[0m\u001b[0m\n\u001b[0m",
      "\u001b[1;31mNameError\u001b[0m: name 'pandas' is not defined"
     ]
    }
   ],
   "source": [
    "pandas.read_excel('enron.xlsx')\n"
   ]
  },
  {
   "cell_type": "code",
   "execution_count": 32,
   "metadata": {
    "scrolled": true
   },
   "outputs": [
    {
     "data": {
      "text/html": [
       "<div>\n",
       "<style scoped>\n",
       "    .dataframe tbody tr th:only-of-type {\n",
       "        vertical-align: middle;\n",
       "    }\n",
       "\n",
       "    .dataframe tbody tr th {\n",
       "        vertical-align: top;\n",
       "    }\n",
       "\n",
       "    .dataframe thead th {\n",
       "        text-align: right;\n",
       "    }\n",
       "</style>\n",
       "<table border=\"1\" class=\"dataframe\">\n",
       "  <thead>\n",
       "    <tr style=\"text-align: right;\">\n",
       "      <th></th>\n",
       "      <th>Unnamed: 0</th>\n",
       "      <th>Names</th>\n",
       "      <th>Age</th>\n",
       "      <th>Height</th>\n",
       "      <th>Score</th>\n",
       "      <th>Gender</th>\n",
       "    </tr>\n",
       "  </thead>\n",
       "  <tbody>\n",
       "    <tr>\n",
       "      <th>0</th>\n",
       "      <td>0</td>\n",
       "      <td>Ann</td>\n",
       "      <td>14</td>\n",
       "      <td>5.5</td>\n",
       "      <td>80</td>\n",
       "      <td>F</td>\n",
       "    </tr>\n",
       "    <tr>\n",
       "      <th>1</th>\n",
       "      <td>1</td>\n",
       "      <td>Jane</td>\n",
       "      <td>16</td>\n",
       "      <td>6.0</td>\n",
       "      <td>85</td>\n",
       "      <td>F</td>\n",
       "    </tr>\n",
       "    <tr>\n",
       "      <th>2</th>\n",
       "      <td>2</td>\n",
       "      <td>Joan</td>\n",
       "      <td>14</td>\n",
       "      <td>5.4</td>\n",
       "      <td>70</td>\n",
       "      <td>F</td>\n",
       "    </tr>\n",
       "    <tr>\n",
       "      <th>3</th>\n",
       "      <td>3</td>\n",
       "      <td>Clare</td>\n",
       "      <td>17</td>\n",
       "      <td>5.9</td>\n",
       "      <td>60</td>\n",
       "      <td>F</td>\n",
       "    </tr>\n",
       "    <tr>\n",
       "      <th>4</th>\n",
       "      <td>4</td>\n",
       "      <td>Elizabeth</td>\n",
       "      <td>16</td>\n",
       "      <td>5.6</td>\n",
       "      <td>76</td>\n",
       "      <td>F</td>\n",
       "    </tr>\n",
       "    <tr>\n",
       "      <th>5</th>\n",
       "      <td>5</td>\n",
       "      <td>Chaarles</td>\n",
       "      <td>15</td>\n",
       "      <td>5.7</td>\n",
       "      <td>85</td>\n",
       "      <td>M</td>\n",
       "    </tr>\n",
       "    <tr>\n",
       "      <th>6</th>\n",
       "      <td>6</td>\n",
       "      <td>Jude</td>\n",
       "      <td>16</td>\n",
       "      <td>5.9</td>\n",
       "      <td>74</td>\n",
       "      <td>M</td>\n",
       "    </tr>\n",
       "    <tr>\n",
       "      <th>7</th>\n",
       "      <td>7</td>\n",
       "      <td>James</td>\n",
       "      <td>16</td>\n",
       "      <td>5.8</td>\n",
       "      <td>87</td>\n",
       "      <td>M</td>\n",
       "    </tr>\n",
       "    <tr>\n",
       "      <th>8</th>\n",
       "      <td>8</td>\n",
       "      <td>Kelvin</td>\n",
       "      <td>17</td>\n",
       "      <td>6.1</td>\n",
       "      <td>75</td>\n",
       "      <td>M</td>\n",
       "    </tr>\n",
       "    <tr>\n",
       "      <th>9</th>\n",
       "      <td>9</td>\n",
       "      <td>Prosper</td>\n",
       "      <td>14</td>\n",
       "      <td>5.0</td>\n",
       "      <td>68</td>\n",
       "      <td>M</td>\n",
       "    </tr>\n",
       "  </tbody>\n",
       "</table>\n",
       "</div>"
      ],
      "text/plain": [
       "   Unnamed: 0      Names  Age  Height  Score Gender\n",
       "0           0        Ann   14     5.5     80      F\n",
       "1           1       Jane   16     6.0     85      F\n",
       "2           2       Joan   14     5.4     70      F\n",
       "3           3      Clare   17     5.9     60      F\n",
       "4           4  Elizabeth   16     5.6     76      F\n",
       "5           5   Chaarles   15     5.7     85      M\n",
       "6           6       Jude   16     5.9     74      M\n",
       "7           7      James   16     5.8     87      M\n",
       "8           8     Kelvin   17     6.1     75      M\n",
       "9           9    Prosper   14     5.0     68      M"
      ]
     },
     "execution_count": 32,
     "metadata": {},
     "output_type": "execute_result"
    }
   ],
   "source": [
    "pandas.read_excel('data.xlsx')"
   ]
  },
  {
   "cell_type": "code",
   "execution_count": 22,
   "metadata": {},
   "outputs": [
    {
     "name": "stdout",
     "output_type": "stream",
     "text": [
      "Enter distance in miles:50\n",
      "Enter time in hours:2\n",
      "The speed of the car is: 25.0 miles/hr\n"
     ]
    }
   ],
   "source": [
    "a = float(input('Enter distance in miles:'))\n",
    "b = float(input('Enter time in hours:'))\n",
    "c = a/b\n",
    "print('The speed of the car is:', c, 'miles/hr')\n"
   ]
  },
  {
   "cell_type": "code",
   "execution_count": 39,
   "metadata": {},
   "outputs": [
    {
     "name": "stdout",
     "output_type": "stream",
     "text": [
      "Enter coefficient of x^2:1\n",
      "Enter coefficient of x:5\n",
      "Enter constant term:2\n",
      "x1:  -0.4384471871911697\n",
      "x2:  -4.561552812808831\n"
     ]
    }
   ],
   "source": [
    "import math\n",
    "a = int(input('Enter coefficient of x^2:' ))\n",
    "b = int(input('Enter coefficient of x:' ))\n",
    "c = int(input(\"Enter constant term:\" ))\n",
    "x1 = (-b+math.sqrt(b**2-(4*a*c)))/(2*a)\n",
    "x2 = (-b-math.sqrt(b**2-(4*a*c)))/(2*a)\n",
    "print(\"x1: \",x1)\n",
    "print(\"x2: \",x2)"
   ]
  },
  {
   "cell_type": "code",
   "execution_count": null,
   "metadata": {},
   "outputs": [],
   "source": []
  }
 ],
 "metadata": {
  "kernelspec": {
   "display_name": "Python 3",
   "language": "python",
   "name": "python3"
  },
  "language_info": {
   "codemirror_mode": {
    "name": "ipython",
    "version": 3
   },
   "file_extension": ".py",
   "mimetype": "text/x-python",
   "name": "python",
   "nbconvert_exporter": "python",
   "pygments_lexer": "ipython3",
   "version": "3.8.5"
  }
 },
 "nbformat": 4,
 "nbformat_minor": 4
}

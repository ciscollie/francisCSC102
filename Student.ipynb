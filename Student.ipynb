{
 "cells": [
  {
   "cell_type": "code",
   "execution_count": 59,
   "metadata": {},
   "outputs": [
    {
     "name": "stdout",
     "output_type": "stream",
     "text": [
      "James Kaka\n",
      "James Gaga\n",
      "Registered course is CSC 102\n",
      "You passed your CSC102 Examination\n",
      "18 Ah, senior man\n",
      "Pau, here we come, Pau, here we come \n",
      "Enter an Integer value: 34567\n",
      "The number is ODD\n",
      "5\n"
     ]
    }
   ],
   "source": [
    "\n",
    "class Student:\n",
    "     registeredCourse = 'CSC 102'\n",
    "     studentLevel = 'first year computer science 2020/2021 session'\n",
    "     studentCounter = 0\n",
    "     def __init__(self, thename, thematricno, thesex, thehostelname, theage, thecsc102examscore):\n",
    "            self.name = thename\n",
    "            self.matricno = thematricno\n",
    "            self.sex = thesex\n",
    "            self.hostelname = thehostelname\n",
    "            self.age = theage\n",
    "            self.csc102examscore = thecsc102examscore\n",
    "            Student.studentCounter = Student.studentCounter + 1\n",
    "     def stuage(self):\n",
    "        if self.age > 16:\n",
    "            return f\"{self.age} Ah, senior man\"\n",
    "        else:\n",
    "            return f\"{self.age} You be small boy\"\n",
    "    \n",
    "     def passExam(self):\n",
    "            if 45<= self.csc102examscore <=100 :\n",
    "                return 'You passed your CSC102 Examination'\n",
    "            else:\n",
    "                return 'Sorry. You have to enroll for the course next year'\n",
    "    \n",
    "     def getName(self):\n",
    "         return  self.name\n",
    "\n",
    "     def setName(self, thenewName):\n",
    "         self.name = thenewName\n",
    "     \n",
    "     @classmethod\n",
    "     def regcourse(cls):\n",
    "        return f\"Registered course is {Student.registeredCourse}\"\n",
    "    \n",
    "     @classmethod\n",
    "     def studentcount(cls):\n",
    "        return Student.studentCounter\n",
    "     \n",
    "     @staticmethod\n",
    "     def PAUNanthem():\n",
    "        print('Pau, here we come, Pau, here we come ')\n",
    "     \n",
    "     @staticmethod\n",
    "     def num(number):\n",
    "        number  = int(input('Enter an Integer value: '))\n",
    "        if number % 2 == 0:\n",
    "            return 'The number is EVEN'\n",
    "        else:\n",
    "            return 'The number is ODD'\n",
    "\n",
    "studendt1 = Student('James Kaka', '021074', 'M', 'Coorperative', 18, 78)\n",
    "studendt2 = Student('Michael Angelo', '092746', 'M', 'Faith', 14, 43)\n",
    "studendt3 = Student('John Wick', '039284', 'F', 'Pearl', 20, 22)\n",
    "studendt4 = Student('David Adeleke', '012748', 'M', 'Emerald', 15, 74)\n",
    "studendt5 = Student('Veronica Keller', '012748', 'F', 'Trinity', 16, 87)\n",
    "print(studendt1.getName())\n",
    "studendt1.setName('James Gaga')\n",
    "print(studendt1.getName())\n",
    "print(Student.regcourse())\n",
    "print(studendt1.passExam())\n",
    "print(studendt1.stuage())\n",
    "Student.PAUNanthem()\n",
    "print(Student.num(number))\n",
    "print(Student.studentcount())\n"
   ]
  },
  {
   "cell_type": "code",
   "execution_count": null,
   "metadata": {},
   "outputs": [],
   "source": []
  },
  {
   "cell_type": "code",
   "execution_count": null,
   "metadata": {},
   "outputs": [],
   "source": []
  }
 ],
 "metadata": {
  "kernelspec": {
   "display_name": "Python 3",
   "language": "python",
   "name": "python3"
  },
  "language_info": {
   "codemirror_mode": {
    "name": "ipython",
    "version": 3
   },
   "file_extension": ".py",
   "mimetype": "text/x-python",
   "name": "python",
   "nbconvert_exporter": "python",
   "pygments_lexer": "ipython3",
   "version": "3.8.5"
  }
 },
 "nbformat": 4,
 "nbformat_minor": 4
}

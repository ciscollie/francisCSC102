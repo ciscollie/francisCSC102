{
 "cells": [
  {
   "cell_type": "code",
   "execution_count": 1,
   "metadata": {},
   "outputs": [
    {
     "name": "stdout",
     "output_type": "stream",
     "text": [
      " Total cost for 20 is #200000, with a discount of 10%, you would pay #180000.0. You have a gift.\n",
      " Total cost for 40 is #10000.\n",
      " Total cost for 3 is #103000, with a discount of 10%, you would pay #92700.0.\n",
      "Enter number of items bought:20\n",
      "Enter the total cost:1000000000\n",
      " Total cost for 20 is #1000000000, with a discount of 10%, you would pay #900000000.0. You have a gift.\n"
     ]
    }
   ],
   "source": [
    "class Onlinestore:\n",
    "    def __init__(self, thenumberOfitemsbought, thetotalcost):\n",
    "        self.numberOfitemsbought = thenumberOfitemsbought\n",
    "        self.totalcost = thetotalcost\n",
    "\n",
    "    def calculator(self):\n",
    "        newcost = self.totalcost * 0.9\n",
    "        if self.numberOfitemsbought > 10 and self.totalcost > 100000:\n",
    "            return f\" Total cost for {self.numberOfitemsbought} is #{self.totalcost}, with a discount of 10%, you would pay #{newcost}. You have a gift.\"\n",
    "        elif self.numberOfitemsbought < 10 and self.totalcost > 100000:\n",
    "            return f\" Total cost for {self.numberOfitemsbought} is #{self.totalcost}, with a discount of 10%, you would pay #{newcost}.\"\n",
    "        else:\n",
    "            return f\" Total cost for {self.numberOfitemsbought} is #{self.totalcost}.\"\n",
    "customer1 = Onlinestore(20,200000)\n",
    "customer2 = Onlinestore(40, 10000)\n",
    "customer3 = Onlinestore(3, 103000)\n",
    "\n",
    "print(customer1.calculator())\n",
    "print(customer2.calculator())\n",
    "print(customer3.calculator())\n",
    "#Allows for user to input\n",
    "num = int(input('Enter number of items bought:'))\n",
    "price = int(input('Enter the total cost:'))\n",
    "customer = Onlinestore(num, price)\n",
    "cust = customer.calculator()\n",
    "print(cust)\n"
   ]
  },
  {
   "cell_type": "code",
   "execution_count": null,
   "metadata": {},
   "outputs": [],
   "source": []
  }
 ],
 "metadata": {
  "kernelspec": {
   "display_name": "Python 3",
   "language": "python",
   "name": "python3"
  },
  "language_info": {
   "codemirror_mode": {
    "name": "ipython",
    "version": 3
   },
   "file_extension": ".py",
   "mimetype": "text/x-python",
   "name": "python",
   "nbconvert_exporter": "python",
   "pygments_lexer": "ipython3",
   "version": "3.8.5"
  }
 },
 "nbformat": 4,
 "nbformat_minor": 4
}

{
 "cells": [
  {
   "cell_type": "code",
   "execution_count": 5,
   "metadata": {},
   "outputs": [
    {
     "name": "stdout",
     "output_type": "stream",
     "text": [
      "enter your pin........\n",
      "1111\n"
     ]
    }
   ],
   "source": [
    "class XBank:\n",
    "    loggedinCounter = 0\n",
    "    def __init__(self,theatmpin,theaccountbalance,thename):\n",
    "        self.atmpin = theatmpin\n",
    "        self.accountbalance = theaccountbalance\n",
    "        self.name = thename\n",
    "        XBank.loggedinCounter  = XBank.loggedinCounter + 1\n",
    "    \n",
    "    def CollectMoney(self, amounttowithdraw):\n",
    "        if(amounttowithdraw > self.accountbalance):\n",
    "            print(\"Sorry we are not able to process at this time\")\n",
    "        else:\n",
    "            print(\"Collect your cash....Thanks for banking with Xbank\")\n",
    "    \n",
    "    def ChangePin(self, newPin):   \n",
    "        self.atmpin = newPin\n",
    "        print(\"Your Pin has been changed...Thanks for banking with Xbank\")\n",
    "    @classmethod  \n",
    "    def NoOfCustomersLoggedin (cls):\n",
    "        print(\"we have a total of\" + str(cls.loggedinCounter) + \" that have logged in\")\n",
    "        \n",
    "        \n",
    "\n",
    "f = open(\"C:\\\\Users\\\\SST-Lab\\\\Desktop\\\\database.txt\",'r')\n",
    "\n",
    "#print(f.readline())\n",
    "password = []\n",
    "accountB = []\n",
    "name = []\n",
    "breaker =  []\n",
    "for x in f:\n",
    "   breaker = x.split(' ')\n",
    "   password.append(breaker[0])\n",
    "   accountB.append(breaker[1]) \n",
    "   name.append(breaker[2])\n",
    "   break\n",
    "    \n",
    "\n",
    "print(\"enter your pin........\")\n",
    "\n",
    "pasw = input()\n",
    "\n",
    "if(pasw ==password[0]):\n",
    "    customer = XBank(password[0],accountB[0],name[0])\n",
    "else:\n",
    "    print(\"sorry your password does not match\")"
   ]
  },
  {
   "cell_type": "code",
   "execution_count": 9,
   "metadata": {},
   "outputs": [],
   "source": [
    "class Employee:\n",
    "    empCount = 0\n",
    "    def __init__(self, name, salary):\n",
    "        self.name = name\n",
    "        self.salary = salary\n",
    "        Employee.empCount += 1\n",
    "    def displayCount(self):\n",
    "        print(Eployee.empCount)\n",
    "    def displayEmployee(self):\n",
    "        print(f\"Name:{self.name} Salary:{self.salary}\")"
   ]
  },
  {
   "cell_type": "code",
   "execution_count": null,
   "metadata": {},
   "outputs": [],
   "source": []
  }
 ],
 "metadata": {
  "kernelspec": {
   "display_name": "Python 3",
   "language": "python",
   "name": "python3"
  },
  "language_info": {
   "codemirror_mode": {
    "name": "ipython",
    "version": 3
   },
   "file_extension": ".py",
   "mimetype": "text/x-python",
   "name": "python",
   "nbconvert_exporter": "python",
   "pygments_lexer": "ipython3",
   "version": "3.8.5"
  }
 },
 "nbformat": 4,
 "nbformat_minor": 4
}

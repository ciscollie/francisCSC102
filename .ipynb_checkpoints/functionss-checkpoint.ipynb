{
 "cells": [
  {
   "cell_type": "code",
   "execution_count": 18,
   "metadata": {
    "scrolled": true
   },
   "outputs": [
    {
     "name": "stdout",
     "output_type": "stream",
     "text": [
      "Do you want to shut down? yes\n",
      "Shutting down\n"
     ]
    }
   ],
   "source": [
    "def shut_down(argument):\n",
    "    if argument == 'yes':\n",
    "        return 'Shutting down'\n",
    "    elif argument == 'no':\n",
    "        return 'Shutdown aborted'\n",
    "    else:\n",
    "        return 'Sorry, such argument not welcome here'\n",
    "a = input('Do you want to shut down? ')\n",
    "print(shut_down(a))"
   ]
  },
  {
   "cell_type": "code",
   "execution_count": null,
   "metadata": {},
   "outputs": [],
   "source": []
  },
  {
   "cell_type": "code",
   "execution_count": 37,
   "metadata": {},
   "outputs": [
    {
     "name": "stdout",
     "output_type": "stream",
     "text": [
      "Enter the number: 3\n",
      "27\n"
     ]
    }
   ],
   "source": [
    "def by_three(number):\n",
    "    if number % 3 == 0:\n",
    "        return cube(number)\n",
    "    else:\n",
    "        return False\n",
    "\n",
    "def cube(number):\n",
    "    number = number**3\n",
    "    return number\n",
    "x = int(input('Enter the number: '))\n",
    "print(by_three(x))\n",
    "\n",
    "        "
   ]
  },
  {
   "cell_type": "code",
   "execution_count": 67,
   "metadata": {},
   "outputs": [
    {
     "name": "stdout",
     "output_type": "stream",
     "text": [
      "6\n",
      "5\n"
     ]
    }
   ],
   "source": [
    "def case_letter(string):\n",
    "    u_case = 0\n",
    "    l_case = 0\n",
    "    for i in string:\n",
    "        if i.isupper():\n",
    "            u_case +=1\n",
    "        elif i.islower():\n",
    "            l_case +=1\n",
    "print(u_case)\n",
    "print(l_case)"
   ]
  },
  {
   "cell_type": "code",
   "execution_count": null,
   "metadata": {},
   "outputs": [],
   "source": []
  },
  {
   "cell_type": "code",
   "execution_count": null,
   "metadata": {},
   "outputs": [],
   "source": []
  },
  {
   "cell_type": "code",
   "execution_count": null,
   "metadata": {},
   "outputs": [],
   "source": []
  }
 ],
 "metadata": {
  "kernelspec": {
   "display_name": "Python 3",
   "language": "python",
   "name": "python3"
  },
  "language_info": {
   "codemirror_mode": {
    "name": "ipython",
    "version": 3
   },
   "file_extension": ".py",
   "mimetype": "text/x-python",
   "name": "python",
   "nbconvert_exporter": "python",
   "pygments_lexer": "ipython3",
   "version": "3.8.5"
  }
 },
 "nbformat": 4,
 "nbformat_minor": 4
}

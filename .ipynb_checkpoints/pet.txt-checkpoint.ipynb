{
 "cells": [
  {
   "cell_type": "code",
   "execution_count": 22,
   "metadata": {},
   "outputs": [
    {
     "name": "stdout",
     "output_type": "stream",
     "text": [
      "Meow\n",
      "Bark\n"
     ]
    }
   ],
   "source": [
    "#There is code repetition; quite tedious\n",
    "class Cat:\n",
    "    def __init__(self, thename, theage):\n",
    "        self.name = thename\n",
    "        self.age = theage\n",
    "    \n",
    "    def speak(self):\n",
    "        print(\"Meow\")\n",
    "class Dog:\n",
    "    def __init__(self, thename, theage):\n",
    "        self.name = thename\n",
    "        self.age = theage\n",
    "        \n",
    "    def speak(self):\n",
    "        print(\"Bark\")\n",
    "\n",
    "c = Cat(\"Bill\", 34)\n",
    "c.speak()\n",
    "d = Dog(\"Jill\", 25)\n",
    "d.speak()"
   ]
  },
  {
   "cell_type": "code",
   "execution_count": 23,
   "metadata": {},
   "outputs": [
    {
     "name": "stdout",
     "output_type": "stream",
     "text": [
      "I am Tim and I am 19 years old\n",
      "I don't know what I say\n",
      "I am Bill and I am 34 years old\n",
      "Meow\n",
      "I am Jill and I am 25 years old\n",
      "Bark\n",
      "I am Bubbles and I am 10 years old\n",
      "I don't know what I say\n"
     ]
    }
   ],
   "source": [
    "#Introduced a super class in which sub classes derived methods\n",
    "class Pet:\n",
    "    def __init__(self, thename, theage):\n",
    "        self.name = thename\n",
    "        self.age = theage\n",
    "        \n",
    "    def show(self):\n",
    "        print(f\"I am {self.name} and I am {self.age} years old\")\n",
    "        \n",
    "    def speak(self):\n",
    "        print(\"I don't know what I say\")\n",
    "        \n",
    "class Cat(Pet):\n",
    "    def speak(self):\n",
    "        print(\"Meow\")\n",
    "        \n",
    "class Dog(Pet):\n",
    "    def speak(self):\n",
    "        print(\"Bark\")\n",
    "        \n",
    "class Fish(Pet):\n",
    "    pass\n",
    "\n",
    "p = Pet(\"Tim\", 19)\n",
    "p.show()\n",
    "p.speak()\n",
    "c = Cat(\"Bill\", 34)\n",
    "c.show()\n",
    "c.speak()\n",
    "d = Dog(\"Jill\", 25)\n",
    "d.show()\n",
    "d.speak()\n",
    "f = Fish(\"Bubbles\", 10)\n",
    "f.show()\n",
    "f.speak()"
   ]
  },
  {
   "cell_type": "code",
   "execution_count": null,
   "metadata": {},
   "outputs": [],
   "source": []
  }
 ],
 "metadata": {
  "kernelspec": {
   "display_name": "Python 3",
   "language": "python",
   "name": "python3"
  },
  "language_info": {
   "codemirror_mode": {
    "name": "ipython",
    "version": 3
   },
   "file_extension": ".py",
   "mimetype": "text/x-python",
   "name": "python",
   "nbconvert_exporter": "python",
   "pygments_lexer": "ipython3",
   "version": "3.8.5"
  }
 },
 "nbformat": 4,
 "nbformat_minor": 4
}

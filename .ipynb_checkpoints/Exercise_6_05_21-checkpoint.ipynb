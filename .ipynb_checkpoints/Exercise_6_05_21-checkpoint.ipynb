{
 "cells": [
  {
   "cell_type": "markdown",
   "metadata": {},
   "source": [
    "<div class = \"alert alert-block alert-info\">\n",
    "1.  A Python function that allows user to shut down\n",
    "</div>"
   ]
  },
  {
   "cell_type": "code",
   "execution_count": 18,
   "metadata": {
    "scrolled": true
   },
   "outputs": [
    {
     "name": "stdout",
     "output_type": "stream",
     "text": [
      "Do you want to shut down? yes\n",
      "Shutting down\n"
     ]
    }
   ],
   "source": [
    "def shut_down(argument):\n",
    "    if argument == 'yes':\n",
    "        return 'Shutting down'\n",
    "    elif argument == 'no':\n",
    "        return 'Shutdown aborted'\n",
    "    else:\n",
    "        return 'Sorry, such argument not welcome here'\n",
    "a = input('Do you want to shut down? ')\n",
    "print(shut_down(a))"
   ]
  },
  {
   "cell_type": "markdown",
   "metadata": {},
   "source": [
    "<div class = \"alert alert-block alert-info\">\n",
    "2. A function that accepts a given number of employee name, salary and stores data in a dictionary\n",
    "<div/>"
   ]
  },
  {
   "cell_type": "code",
   "execution_count": 22,
   "metadata": {},
   "outputs": [
    {
     "ename": "SyntaxError",
     "evalue": "invalid syntax (<ipython-input-22-1b39c64ca203>, line 2)",
     "output_type": "error",
     "traceback": [
      "\u001b[1;36m  File \u001b[1;32m\"<ipython-input-22-1b39c64ca203>\"\u001b[1;36m, line \u001b[1;32m2\u001b[0m\n\u001b[1;33m    pip install coloured\u001b[0m\n\u001b[1;37m        ^\u001b[0m\n\u001b[1;31mSyntaxError\u001b[0m\u001b[1;31m:\u001b[0m invalid syntax\n"
     ]
    }
   ],
   "source": [
    "import pandas\n"
   ]
  },
  {
   "cell_type": "markdown",
   "metadata": {},
   "source": [
    "<div class = \"alert alert-block alert-info\">\n",
    "3. Python function that accepts integer valuews and finds the cube values for factors of 3\n",
    "</div>"
   ]
  },
  {
   "cell_type": "code",
   "execution_count": 37,
   "metadata": {},
   "outputs": [
    {
     "name": "stdout",
     "output_type": "stream",
     "text": [
      "Enter the number: 3\n",
      "27\n"
     ]
    }
   ],
   "source": [
    "def by_three(number):\n",
    "    if number % 3 == 0:\n",
    "        return cube(number)\n",
    "    else:\n",
    "        return False\n",
    "\n",
    "def cube(number):\n",
    "    number = number**3\n",
    "    return number\n",
    "x = int(input('Enter the number: '))\n",
    "print(by_three(x))\n",
    "\n",
    "        "
   ]
  },
  {
   "cell_type": "markdown",
   "metadata": {},
   "source": [
    "<div class = \"alert alert-block alert-info\">\n",
    "4. Python function that accepts a string and calculate the number of upper case letters and lower case letters.\n",
    "</div>"
   ]
  },
  {
   "cell_type": "code",
   "execution_count": 16,
   "metadata": {},
   "outputs": [
    {
     "name": "stdout",
     "output_type": "stream",
     "text": [
      "Enter a string: Pan Atlantic University\n",
      "Upper case:  3\n",
      "Lower case:  18\n"
     ]
    }
   ],
   "source": [
    "def case_letter(string):\n",
    "    u_case = 0\n",
    "    l_case = 0\n",
    "    for i in string:\n",
    "        if i.isupper():\n",
    "            u_case +=1\n",
    "        elif i.islower():\n",
    "            l_case +=1\n",
    "    print('Upper case: ', u_case)\n",
    "    print('Lower case: ', l_case)\n",
    "word = input(\"Enter a string: \")\n",
    "case_letter(word)"
   ]
  },
  {
   "cell_type": "code",
   "execution_count": null,
   "metadata": {},
   "outputs": [],
   "source": []
  },
  {
   "cell_type": "code",
   "execution_count": null,
   "metadata": {},
   "outputs": [],
   "source": []
  },
  {
   "cell_type": "code",
   "execution_count": null,
   "metadata": {},
   "outputs": [],
   "source": []
  }
 ],
 "metadata": {
  "kernelspec": {
   "display_name": "Python 3",
   "language": "python",
   "name": "python3"
  },
  "language_info": {
   "codemirror_mode": {
    "name": "ipython",
    "version": 3
   },
   "file_extension": ".py",
   "mimetype": "text/x-python",
   "name": "python",
   "nbconvert_exporter": "python",
   "pygments_lexer": "ipython3",
   "version": "3.8.5"
  }
 },
 "nbformat": 4,
 "nbformat_minor": 4
}

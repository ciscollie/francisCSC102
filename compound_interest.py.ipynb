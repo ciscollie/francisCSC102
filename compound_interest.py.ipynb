{
 "cells": [
  {
   "cell_type": "code",
   "execution_count": null,
   "metadata": {},
   "outputs": [],
   "source": [
    "p = int(input(\"Enter principal: \"))\n",
    "n = int(input('Enter number of compounding years: '))\n",
    "r = float(input(\"Enter rate per annum in decimal: \"))\n",
    "t = int(input(\"Enter amount of years: \"))\n",
    "A = p*(1 + (r/n))**(n*t)\n",
    "I = A - p\n",
    "print('Compound Interest after', t,\"years is\", I)\n",
    "print('Amount after', t,\"years is\", A)\n"
   ]
  },
  {
   "cell_type": "code",
   "execution_count": null,
   "metadata": {},
   "outputs": [],
   "source": []
  },
  {
   "cell_type": "code",
   "execution_count": null,
   "metadata": {},
   "outputs": [],
   "source": []
  }
 ],
 "metadata": {
  "kernelspec": {
   "display_name": "Python 3",
   "language": "python",
   "name": "python3"
  },
  "language_info": {
   "codemirror_mode": {
    "name": "ipython",
    "version": 3
   },
   "file_extension": ".py",
   "mimetype": "text/x-python",
   "name": "python",
   "nbconvert_exporter": "python",
   "pygments_lexer": "ipython3",
   "version": "3.8.5"
  }
 },
 "nbformat": 4,
 "nbformat_minor": 4
}

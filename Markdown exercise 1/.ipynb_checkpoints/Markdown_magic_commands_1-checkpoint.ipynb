{
 "cells": [
  {
   "cell_type": "markdown",
   "metadata": {},
   "source": [
    "\n",
    "Markdown heading\n",
    "# Largest header\n",
    "## Second header\n",
    "### Third header\n",
    "#### Fourth header\n",
    "##### Fifth header\n",
    "###### Smallest header\n"
   ]
  },
  {
   "cell_type": "markdown",
   "metadata": {},
   "source": [
    "<div class=\"alert alert-block alert-success\">\n",
    "$ mathematical symbols $\n",
    "\n",
    "`string`\n",
    "<div/>"
   ]
  },
  {
   "cell_type": "markdown",
   "metadata": {},
   "source": [
    "<div class=\"alert alert-block alert-info\">\n",
    "Line break <br>\n",
    "Messi is <br> fake\n",
    "</div>"
   ]
  },
  {
   "cell_type": "markdown",
   "metadata": {},
   "source": [
    "Alternative Heading\n",
    "markdown\n",
    "\n",
    "Heading 1\n",
    "=========\n",
    "\n",
    "Heading 2\n",
    "---------"
   ]
  },
  {
   "cell_type": "markdown",
   "metadata": {},
   "source": [
    "\n",
    "**Bold Font** or __Bold Font__\n",
    "\n",
    "*Italic* or _Italic Font_\n",
    "\n",
    "~~Scratched Text~~\n",
    "\n",
    "<u>Learn how to use HTML</u>"
   ]
  },
  {
   "cell_type": "markdown",
   "metadata": {},
   "source": [
    "\n",
    "- bullet point using hyphen\n",
    "* bullet point using asterisk\n",
    "  - sub bullet point\n",
    "1. Numbering\n",
    "1. number\n"
   ]
  },
  {
   "cell_type": "markdown",
   "metadata": {},
   "source": [
    "\n",
    "> This is for indentation<br>\n",
    "Let me check if the remaining lines below would indent<br>\n",
    "Hope it works\n",
    "\n",
    "And we are back"
   ]
  },
  {
   "cell_type": "markdown",
   "metadata": {},
   "source": [
    "<div class=\"alert alert-block alert-info\">\n",
    "<b>Uses:</b> Blue boxes are used for notes and tips.\n",
    "</div>"
   ]
  },
  {
   "cell_type": "markdown",
   "metadata": {},
   "source": [
    "<div class= 'alert alert-block alert-warning'>\n",
    "<b>Uses:</b> It is used to show codes not in cells or to show mathematical formulas.\n",
    "</div>"
   ]
  },
  {
   "cell_type": "markdown",
   "metadata": {},
   "source": [
    "\n",
    "http://www.github.com/\n",
    "\n",
    "[Github](http://www.github.com/)\n",
    "\n",
    "\n",
    "[My wordpress website](http://ciscoly.wordpress.com/)\n",
    "\n"
   ]
  },
  {
   "cell_type": "markdown",
   "metadata": {},
   "source": [
    "<hr>\n",
    "wow\n",
    "<hr/>"
   ]
  },
  {
   "cell_type": "markdown",
   "metadata": {},
   "source": [
    "\n",
    "| Tables      | Are         | Cool  |\n",
    "|-------------|:-----------:|------:|\n",
    "| col 3 is    |right-aligned| 1600  |\n",
    "|col 2 is     | Centered    |  12   |\n",
    "|zebra stripes| are neat    | 1     |\n"
   ]
  },
  {
   "cell_type": "markdown",
   "metadata": {},
   "source": [
    "<div class=\"alert alert-block alert-danger\">\n",
    "You can use LaTex in line by like this $y = x^2$<br>\n",
    "or in block like this $$y = x^2$$\n",
    "<div/>"
   ]
  },
  {
   "cell_type": "markdown",
   "metadata": {},
   "source": [
    "<div class=\"alert alert-block alert-success\">\n",
    "LaTex Markdown\n",
    "\n",
    "- Add:\n",
    " - $x + y$\n",
    "- Substract:\n",
    " - $x - y$\n",
    "- Multiply:\n",
    " - $x * y$\n",
    " - $x \\times y$\n",
    " - $x . y$\n",
    "-Divide\n",
    " - $x / y$\n",
    " - $x \\div y$\n",
    " - $\\frac{x}{y}$\n",
    "</div>"
   ]
  },
  {
   "cell_type": "markdown",
   "metadata": {},
   "source": [
    "## Relation\n",
    "- $\\pi \\approx 3.14159$\n",
    "- ${1 \\over 0} \\neq  \\inf$\n",
    "- $0 < x >1$\n",
    "- $0 \\leq x \\geq 1$\n",
    "## Fraction\n",
    "\n",
    "- $^1/_2$\n",
    "- $\\frac{1}{2x}$\n",
    "- ${3 \\over 4}$"
   ]
  },
  {
   "cell_type": "code",
   "execution_count": null,
   "metadata": {
    "scrolled": true
   },
   "outputs": [],
   "source": [
    "%lsmagic"
   ]
  },
  {
   "cell_type": "code",
   "execution_count": null,
   "metadata": {},
   "outputs": [],
   "source": [
    "# %load compound_interest.py.ipynb\n",
    "{\n",
    " \"cells\": [\n",
    "  {\n",
    "   \"cell_type\": \"code\",\n",
    "   \"execution_count\": null,\n",
    "   \"metadata\": {},\n",
    "   \"outputs\": [],\n",
    "   \"source\": [\n",
    "    \"p = int(input(\\\"Enter principal: \\\"))\\n\",\n",
    "    \"n = int(input('Enter number of compounding years: '))\\n\",\n",
    "    \"r = float(input(\\\"Enter rate per annum in decimal: \\\"))\\n\",\n",
    "    \"t = int(input(\\\"Enter amount of years: \\\"))\\n\",\n",
    "    \"A = p*(1 + (r/n))**(n*t)\\n\",\n",
    "    \"I = A - p\\n\",\n",
    "    \"print('Compound Interest after', t,\\\"years is\\\", I)\\n\",\n",
    "    \"print('Amount after', t,\\\"years is\\\", A)\\n\"\n",
    "   ]\n",
    "  },\n",
    "  {\n",
    "   \"cell_type\": \"code\",\n",
    "   \"execution_count\": null,\n",
    "   \"metadata\": {},\n",
    "   \"outputs\": [],\n",
    "   \"source\": []\n",
    "  },\n",
    "  {\n",
    "   \"cell_type\": \"code\",\n",
    "   \"execution_count\": null,\n",
    "   \"metadata\": {},\n",
    "   \"outputs\": [],\n",
    "   \"source\": []\n",
    "  }\n",
    " ],\n",
    " \"metadata\": {\n",
    "  \"kernelspec\": {\n",
    "   \"display_name\": \"Python 3\",\n",
    "   \"language\": \"python\",\n",
    "   \"name\": \"python3\"\n",
    "  },\n",
    "  \"language_info\": {\n",
    "   \"codemirror_mode\": {\n",
    "    \"name\": \"ipython\",\n",
    "    \"version\": 3\n",
    "   },\n",
    "   \"file_extension\": \".py\",\n",
    "   \"mimetype\": \"text/x-python\",\n",
    "   \"name\": \"python\",\n",
    "   \"nbconvert_exporter\": \"python\",\n",
    "   \"pygments_lexer\": \"ipython3\",\n",
    "   \"version\": \"3.8.5\"\n",
    "  }\n",
    " },\n",
    " \"nbformat\": 4,\n",
    " \"nbformat_minor\": 4\n",
    "}\n"
   ]
  },
  {
   "cell_type": "code",
   "execution_count": null,
   "metadata": {},
   "outputs": [],
   "source": [
    "%run compound_interest.py.ipynb\n"
   ]
  },
  {
   "cell_type": "code",
   "execution_count": null,
   "metadata": {},
   "outputs": [],
   "source": [
    "# %load hello.py\n",
    "print('hello world')\n"
   ]
  },
  {
   "cell_type": "code",
   "execution_count": null,
   "metadata": {},
   "outputs": [],
   "source": [
    "%%time\n",
    "import random\n",
    "for i in range(0, 10000000):\n",
    "    random.random()"
   ]
  },
  {
   "cell_type": "code",
   "execution_count": 1,
   "metadata": {},
   "outputs": [],
   "source": [
    "%matplotlib inline"
   ]
  },
  {
   "cell_type": "code",
   "execution_count": 2,
   "metadata": {},
   "outputs": [
    {
     "name": "stdout",
     "output_type": "stream",
     "text": [
      "%matplotlib inline\n",
      "%history\n"
     ]
    }
   ],
   "source": [
    "%history"
   ]
  },
  {
   "cell_type": "code",
   "execution_count": null,
   "metadata": {},
   "outputs": [],
   "source": []
  }
 ],
 "metadata": {
  "kernelspec": {
   "display_name": "Python 3",
   "language": "python",
   "name": "python3"
  },
  "language_info": {
   "codemirror_mode": {
    "name": "ipython",
    "version": 3
   },
   "file_extension": ".py",
   "mimetype": "text/x-python",
   "name": "python",
   "nbconvert_exporter": "python",
   "pygments_lexer": "ipython3",
   "version": "3.8.5"
  }
 },
 "nbformat": 4,
 "nbformat_minor": 4
}
